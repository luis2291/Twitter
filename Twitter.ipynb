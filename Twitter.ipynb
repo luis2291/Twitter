# Conectarse al API de Twitter y extraer los twitts modificando la variable de dia
Curl -H 'Authorization: Bearer ' 'https://api.twitter.com/1.1/search/tweets.json?q=panama&count=100&lang=es&until=2020-11-11' 
> ~\Users\luis2\OneDrive\Escritorio\Prueba.json

# Abrir archivo en Json luego de crearlo
Start ~\Users\luis2\OneDrive\Escritorio\Prueba.json

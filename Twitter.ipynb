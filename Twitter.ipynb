Curl -H 'Authorization: Bearer ' 'https://api.twitter.com/1.1/search/tweets.json?q=panama&count=100&lang=es&until=2020-11-11' > ~\Users\luis2\OneDrive\Escritorio\Prueba.json

Start ~\Users\luis2\OneDrive\Escritorio\Prueba.json
